{
 "cells": [
  {
   "cell_type": "code",
   "execution_count": null,
   "id": "cubic-florida",
   "metadata": {},
   "outputs": [],
   "source": [
    "import pandas"
   ]
  },
  {
   "cell_type": "code",
   "execution_count": null,
   "id": "smart-contract",
   "metadata": {},
   "outputs": [],
   "source": [
    "from glob import glob\n",
    "glob(\"./*\")"
   ]
  },
  {
   "cell_type": "code",
   "execution_count": null,
   "id": "defensive-shark",
   "metadata": {},
   "outputs": [],
   "source": [
    "od = pandas.read_csv('../full/inputs/csvfiles/freightMatrixAfterIteration400NoTimeUpdate.csv')\n",
    "os = set(od.origin.unique())\n",
    "ds = set(od.destination.unique())\n",
    "len(os | ds), len(os & ds), len(os), len(ds)"
   ]
  },
  {
   "cell_type": "code",
   "execution_count": null,
   "id": "alternative-venue",
   "metadata": {},
   "outputs": [],
   "source": [
    "test_trip = pandas.read_csv('../testrun/inputs/csvfiles/roadFreightTripRates.csv')\n",
    "test_trip"
   ]
  },
  {
   "cell_type": "code",
   "execution_count": null,
   "id": "valued-sherman",
   "metadata": {},
   "outputs": [],
   "source": [
    "test_zones = pandas.read_csv('../testrun/inputs/csvfiles/freightZoneToLAD.csv')\n",
    "test_zones"
   ]
  },
  {
   "cell_type": "code",
   "execution_count": null,
   "id": "macro-grace",
   "metadata": {},
   "outputs": [],
   "source": [
    "df = test_trip[['year','vehicle']].copy()\n",
    "for code in os:\n",
    "    df[code] = 1.0\n",
    "df"
   ]
  },
  {
   "cell_type": "code",
   "execution_count": null,
   "id": "wireless-period",
   "metadata": {},
   "outputs": [],
   "source": [
    "df.to_csv('../full/inputs/csvfiles/roadFreightTripRates.csv', index=False)"
   ]
  }
 ],
 "metadata": {
  "kernelspec": {
   "display_name": "Python 3",
   "language": "python",
   "name": "python3"
  },
  "language_info": {
   "codemirror_mode": {
    "name": "ipython",
    "version": 3
   },
   "file_extension": ".py",
   "mimetype": "text/x-python",
   "name": "python",
   "nbconvert_exporter": "python",
   "pygments_lexer": "ipython3",
   "version": "3.7.10"
  }
 },
 "nbformat": 4,
 "nbformat_minor": 5
}
