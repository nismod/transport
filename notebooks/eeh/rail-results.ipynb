{
 "cells": [
  {
   "cell_type": "code",
   "execution_count": null,
   "metadata": {},
   "outputs": [],
   "source": [
    "import glob\n",
    "import os\n",
    "\n",
    "import pandas"
   ]
  },
  {
   "cell_type": "code",
   "execution_count": null,
   "metadata": {},
   "outputs": [],
   "source": [
    "scenarios = [os.path.basename(d) for d in sorted(glob.glob('eeh/0*'))]\n",
    "scenarios"
   ]
  },
  {
   "cell_type": "code",
   "execution_count": null,
   "metadata": {},
   "outputs": [],
   "source": [
    "timesteps = [os.path.basename(d) for d in sorted(glob.glob('eeh/01-BaU/*'))]\n",
    "timesteps"
   ]
  },
  {
   "cell_type": "code",
   "execution_count": null,
   "metadata": {},
   "outputs": [],
   "source": [
    "outputs = [os.path.basename(d) for d in glob.glob('eeh/01-BaU/2050/*')]\n",
    "outputs"
   ]
  },
  {
   "cell_type": "code",
   "execution_count": null,
   "metadata": {},
   "outputs": [],
   "source": [
    "dfs = []\n",
    "for scenario in scenarios:\n",
    "    for timestep in timesteps:\n",
    "        try:\n",
    "            fname = f\"eeh/{scenario}/{timestep}/zonalRailDemand.csv\"\n",
    "            df = pandas.read_csv(fname)\n",
    "        except FileNotFoundError:\n",
    "            print(fname, \"not found\")\n",
    "        df['scenario'] = scenario\n",
    "        dfs.append(df)\n",
    "            \n",
    "zonal = pandas.concat(dfs) \\\n",
    "    .sort_values(by=['scenario', 'year', 'LADcode'])\n",
    "zonal.to_csv('eeh/zonal.csv', index=False)"
   ]
  },
  {
   "cell_type": "code",
   "execution_count": null,
   "metadata": {},
   "outputs": [],
   "source": [
    "zone_codes = pandas.read_csv('lads-codes-eeh.csv').lad19cd"
   ]
  },
  {
   "cell_type": "code",
   "execution_count": null,
   "metadata": {},
   "outputs": [],
   "source": [
    "zonal.head(1)"
   ]
  },
  {
   "cell_type": "code",
   "execution_count": null,
   "metadata": {},
   "outputs": [],
   "source": [
    "eeh_zonal = zonal[zonal.LADcode.isin(zone_codes)].copy().set_index(['scenario', 'year', 'LADcode'])\n",
    "eeh_zonal.to_csv('eeh/eeh_zonal.csv')\n",
    "eeh_zonal.head(1)"
   ]
  },
  {
   "cell_type": "code",
   "execution_count": null,
   "metadata": {},
   "outputs": [],
   "source": [
    "eeh_summary = eeh_zonal.reset_index() \\\n",
    "    .groupby(['scenario', 'year']) \\\n",
    "    .sum() \\\n",
    "    .drop(columns='stationsNo')\n",
    "eeh_summary.to_csv('eeh/eeh_zonal_summary.csv')\n",
    "eeh_summary"
   ]
  },
  {
   "cell_type": "code",
   "execution_count": null,
   "metadata": {},
   "outputs": [],
   "source": [
    "summary = zonal.groupby(['scenario', 'year']).sum().drop(columns='stationsNo')\n",
    "summary.to_csv('eeh/zonal_summary.csv')\n",
    "summary"
   ]
  },
  {
   "cell_type": "code",
   "execution_count": null,
   "metadata": {},
   "outputs": [],
   "source": [
    "dfs = []\n",
    "for scenario in scenarios:\n",
    "    for timestep in timesteps[1:]:\n",
    "        fname = f\"eeh/{scenario}/{timestep}/predictedRailDemand.csv\"\n",
    "        df = pandas.read_csv(fname)\n",
    "        df['scenario'] = scenario\n",
    "        dfs.append(df)\n",
    "            \n",
    "pred = pandas.concat(dfs) \\\n",
    "    .sort_values(by=['scenario', 'year', 'LADcode', 'NLC'])\n",
    "pred.to_csv('eeh/station.csv', index=False)"
   ]
  },
  {
   "cell_type": "code",
   "execution_count": null,
   "metadata": {},
   "outputs": [],
   "source": [
    "eeh_pred = pred[pred.LADcode.isin(zone_codes)].copy().set_index(['scenario', 'year', 'NLC'])\n",
    "eeh_pred.to_csv('eeh/eeh_station.csv')\n",
    "eeh_pred.head(2)"
   ]
  },
  {
   "cell_type": "code",
   "execution_count": null,
   "metadata": {},
   "outputs": [],
   "source": [
    "eeh_pred.groupby(['scenario', 'year']).sum()[['YearUsage', 'DayUsage']]"
   ]
  },
  {
   "cell_type": "code",
   "execution_count": null,
   "metadata": {},
   "outputs": [],
   "source": [
    "pred.groupby(['scenario', 'year']).sum()[['YearUsage', 'DayUsage']]"
   ]
  }
 ],
 "metadata": {
  "kernelspec": {
   "display_name": "Python 3",
   "language": "python",
   "name": "python3"
  },
  "language_info": {
   "codemirror_mode": {
    "name": "ipython",
    "version": 3
   },
   "file_extension": ".py",
   "mimetype": "text/x-python",
   "name": "python",
   "nbconvert_exporter": "python",
   "pygments_lexer": "ipython3",
   "version": "3.7.6"
  }
 },
 "nbformat": 4,
 "nbformat_minor": 4
}
