{
 "cells": [
  {
   "cell_type": "code",
   "execution_count": null,
   "metadata": {},
   "outputs": [],
   "source": [
    "import glob\n",
    "import os\n",
    "import warnings\n",
    "\n",
    "import geopandas\n",
    "import matplotlib\n",
    "import matplotlib.pyplot as plt\n",
    "import matplotlib.cm as cm\n",
    "import matplotlib.colors\n",
    "import pandas\n",
    "import seaborn\n",
    "\n",
    "from cartopy import crs as ccrs\n",
    "from mpl_toolkits.axes_grid1 import make_axes_locatable"
   ]
  },
  {
   "cell_type": "code",
   "execution_count": null,
   "metadata": {},
   "outputs": [],
   "source": [
    "# from geopandas/geoseries.py:358, when using geopandas.clip:\n",
    "#\n",
    "# UserWarning: GeoSeries.notna() previously returned False for both missing (None) and empty geometries.\n",
    "# Now, it only returns False for missing values. Since the calling GeoSeries contains empty geometries, \n",
    "# the result has changed compared to previous versions of GeoPandas.\n",
    "#\n",
    "# Given a GeoSeries 's', you can use '~s.is_empty & s.notna()' to get back the old behaviour.\n",
    "#\n",
    "# To further ignore this warning, you can do: \n",
    "warnings.filterwarnings('ignore', 'GeoSeries.notna', UserWarning)"
   ]
  },
  {
   "cell_type": "code",
   "execution_count": null,
   "metadata": {},
   "outputs": [],
   "source": [
    "# default to larger figures\n",
    "plt.rcParams['figure.figsize'] = 10, 10"
   ]
  },
  {
   "cell_type": "markdown",
   "metadata": {},
   "source": [
    "# Postprocessing and plotting EEH analysis\n",
    "Scenarios\n",
    "- [x] Colour coded map showing the percentage changes in EEH population by LAD \n",
    "- [x] Total EEH population compared with ONS projection \n",
    "- [x] Total housing growth per LAD, 2015-2020, 2020-2030, 2030-2040, 2040-2050 (may be better as cumulative chart with LADs)\n",
    "\n",
    "Pathways \n",
    "- [x] Proportion of engine types for each Pathway 2015-2050 \n",
    "- [x] Annual CO2 emission * 5 Pathways 2015, 2020, 2030, 2040, 2050 \n",
    "- [x] Colour coded map showing Vehicle km in 2050 for each LAD * 5 Pathways\n",
    "- [x] Annual electricity consumption for car trips * 5 Pathways, 2015, 2020, 2030, 2040, 2050 \n",
    "- [x] Congestion/capacity utilisation in 2050 for each LAD * 5 Pathways (map/chart)\n"
   ]
  },
  {
   "cell_type": "code",
   "execution_count": null,
   "metadata": {},
   "outputs": [],
   "source": [
    "all_zones = geopandas.read_file('../preparation/Local_Authority_Districts__December_2019__Boundaries_UK_BUC-shp/Local_Authority_Districts__December_2019__Boundaries_UK_BUC.shp')"
   ]
  },
  {
   "cell_type": "code",
   "execution_count": null,
   "metadata": {},
   "outputs": [],
   "source": [
    "zone_codes = pandas.read_csv('lads-codes-eeh.csv').lad19cd"
   ]
  },
  {
   "cell_type": "code",
   "execution_count": null,
   "metadata": {},
   "outputs": [],
   "source": [
    "eeh_zones = all_zones \\\n",
    "    [all_zones.lad19cd.isin(zone_codes)] \\\n",
    "    [['lad19cd', 'lad19nm', 'st_areasha', 'geometry']]\n",
    "eeh_zones.plot()"
   ]
  },
  {
   "cell_type": "code",
   "execution_count": null,
   "metadata": {},
   "outputs": [],
   "source": [
    "scenarios = [os.path.basename(d) for d in sorted(glob.glob('eeh/0*'))]\n",
    "scenarios"
   ]
  },
  {
   "cell_type": "code",
   "execution_count": null,
   "metadata": {},
   "outputs": [],
   "source": [
    "timesteps = [os.path.basename(d) for d in sorted(glob.glob('eeh/01-BaU/*'))]\n",
    "timesteps"
   ]
  },
  {
   "cell_type": "markdown",
   "metadata": {},
   "source": [
    "## Population scenario"
   ]
  },
  {
   "cell_type": "code",
   "execution_count": null,
   "metadata": {},
   "outputs": [],
   "source": [
    "def read_pop(fname):\n",
    "    pop = pandas.read_csv(fname)\n",
    "    pop = pop \\\n",
    "        [pop.year.isin([2015, 2050])] \\\n",
    "        .melt(id_vars='year', var_name='lad19cd', value_name='population')    \n",
    "    pop = pop[pop.lad19cd.isin(zone_codes)] \\\n",
    "        .pivot(index='lad19cd', columns='year')\n",
    "    pop.columns = ['pop2015', 'pop2050']\n",
    "\n",
    "    pop['perc_change'] = (pop.pop2050 - pop.pop2015) / pop.pop2015\n",
    "    pop.perc_change *= 100\n",
    "    return pop\n",
    "\n",
    "eehpop = read_pop('../preparation/data/csvfiles/eehPopulation.csv')\n",
    "arcpop = read_pop('../preparation/data/csvfiles/eehArcPopulationBaseline.csv')"
   ]
  },
  {
   "cell_type": "code",
   "execution_count": null,
   "metadata": {},
   "outputs": [],
   "source": [
    "eehpop.sort_values(by='perc_change').tail()"
   ]
  },
  {
   "cell_type": "code",
   "execution_count": null,
   "metadata": {},
   "outputs": [],
   "source": [
    "def plot_pop(eeh_zones, pop):\n",
    "    df = eeh_zones.merge(pop, on='lad19cd', validate='one_to_one')\n",
    "    \n",
    "    fig, ax = plt.subplots(1, 1)\n",
    "    ax.xaxis.set_visible(False)\n",
    "    ax.yaxis.set_visible(False)\n",
    "\n",
    "    divider = make_axes_locatable(ax)\n",
    "\n",
    "    cax = divider.append_axes(\"right\", size=\"5%\", pad=0.1)\n",
    "    \n",
    "    df.plot(column='perc_change', ax=ax, legend=True, cax=cax, cmap='coolwarm_r', vmax=95, vmin=-95)\n",
    "\n",
    "    cax.yaxis.set_label_text('Population (% change 2015-2050)')\n",
    "    cax.yaxis.get_label().set_visible(True)\n",
    "\n",
    "    return fig"
   ]
  },
  {
   "cell_type": "code",
   "execution_count": null,
   "metadata": {},
   "outputs": [],
   "source": [
    "eehpop.to_csv('eehPopulationChange.csv')"
   ]
  },
  {
   "cell_type": "code",
   "execution_count": null,
   "metadata": {},
   "outputs": [],
   "source": [
    "fig = plot_pop(eeh_zones, eehpop)\n",
    "plt.savefig(\"eehPopulationChange.png\")\n",
    "plt.savefig(\"eehPopulationChange.svg\")"
   ]
  },
  {
   "cell_type": "code",
   "execution_count": null,
   "metadata": {},
   "outputs": [],
   "source": [
    "fig = plot_pop(eeh_zones, arcpop)\n",
    "plt.savefig(\"snppPopulationChange.png\")\n",
    "plt.savefig(\"snppPopulationChange.svg\")"
   ]
  },
  {
   "cell_type": "markdown",
   "metadata": {},
   "source": [
    "## Results"
   ]
  },
  {
   "cell_type": "code",
   "execution_count": null,
   "metadata": {},
   "outputs": [],
   "source": [
    "def read_result(fname, scenarios, timesteps):\n",
    "    dfs = []\n",
    "    for s in scenarios:\n",
    "        for t in timesteps:\n",
    "            path = os.path.join('eeh', s, t, fname)\n",
    "            _, ext = os.path.splitext(fname)\n",
    "            if ext == '.csv':\n",
    "                df = pandas.read_csv(path)\n",
    "            elif ext in ('.shp', '.gpkg', '.geojson'):\n",
    "                df = geopandas.read_file(path)\n",
    "            else:\n",
    "                raise Exception(f\"Don't know how to read files of type '{ext}'\")\n",
    "            df['year'] = t\n",
    "            df['scenario'] = s\n",
    "            dfs.append(df)\n",
    "    return pandas.concat(dfs)"
   ]
  },
  {
   "cell_type": "markdown",
   "metadata": {},
   "source": [
    "## CO2 Emissions"
   ]
  },
  {
   "cell_type": "code",
   "execution_count": null,
   "metadata": {},
   "outputs": [],
   "source": [
    "zone_vehicle_emissions = read_result('totalCO2EmissionsZonalPerVehicleType.csv', scenarios, timesteps)\n",
    "zone_vehicle_emissions.head(2)"
   ]
  },
  {
   "cell_type": "code",
   "execution_count": null,
   "metadata": {},
   "outputs": [],
   "source": [
    "annual_eeh_emissions = zone_vehicle_emissions[zone_vehicle_emissions.zone.isin(zone_codes)] \\\n",
    "    .groupby(['scenario', 'year']) \\\n",
    "    .sum()\n",
    "annual_eeh_emissions['TOTAL'] = annual_eeh_emissions.sum(axis=1)\n",
    "annual_eeh_emissions.to_csv('eehCO2Emissions.csv')\n",
    "annual_eeh_emissions.head(10)"
   ]
  },
  {
   "cell_type": "markdown",
   "metadata": {},
   "source": [
    "## Vehicle km per LAD"
   ]
  },
  {
   "cell_type": "code",
   "execution_count": null,
   "metadata": {},
   "outputs": [],
   "source": [
    "vkm_a = read_result('vehicleKilometresWithAccessEgress.csv', scenarios, timesteps)\n",
    "eeh_vkm_a = vkm_a[vkm_a.zone.isin(zone_codes)] \\\n",
    "    .set_index(['scenario', 'year', 'zone'])\n",
    "eeh_vkm_a['TOTAL'] = eeh_vkm_a.sum(axis=1)\n",
    "eeh_vkm_a.to_csv('eehVehicleKilometresWithAccessEgress.csv')\n",
    "eeh_vkm_a.head()"
   ]
  },
  {
   "cell_type": "code",
   "execution_count": null,
   "metadata": {},
   "outputs": [],
   "source": [
    "vkm = read_result('vehicleKilometres.csv', scenarios, timesteps)\n",
    "eeh_vkm = vkm[vkm.zone.isin(zone_codes)] \\\n",
    "    .set_index(['scenario', 'year', 'zone'])\n",
    "eeh_vkm['TOTAL'] = eeh_vkm.sum(axis=1)\n",
    "eeh_vkm.to_csv('eehVehicleKilometres.csv')\n",
    "eeh_vkm.head()"
   ]
  },
  {
   "cell_type": "code",
   "execution_count": null,
   "metadata": {},
   "outputs": [],
   "source": [
    "eeh_vkm.describe()"
   ]
  },
  {
   "cell_type": "code",
   "execution_count": null,
   "metadata": {},
   "outputs": [],
   "source": []
  },
  {
   "cell_type": "code",
   "execution_count": null,
   "metadata": {},
   "outputs": [],
   "source": [
    "df = eeh_vkm.reset_index().drop(columns='zone').groupby(['scenario', 'year']).sum()[['TOTAL']].reset_index()\n",
    "\n",
    "seaborn.catplot(\n",
    "    x = \"year\",\n",
    "    y = \"TOTAL\",\n",
    "    hue = \"scenario\",\n",
    "    data = df,\n",
    "    kind = \"bar\")"
   ]
  },
  {
   "cell_type": "code",
   "execution_count": null,
   "metadata": {},
   "outputs": [],
   "source": [
    "def plot_vkm(eeh_zones, eeh_vkm, scenario, year):\n",
    "    vmax = eeh_vkm.TOTAL.max()\n",
    "    df = eeh_vkm[['TOTAL']].reset_index() \\\n",
    "        .rename(columns={'TOTAL': 'vkm'})\n",
    "    df = df[(df.scenario == scenario) & (df.year == year)] \\\n",
    "        .drop(columns=['scenario', 'year'])\n",
    "    df = geopandas.GeoDataFrame(df.merge(eeh_zones, left_on='zone', right_on='lad19cd', validate='one_to_one'))\n",
    "    \n",
    "    fig, ax = plt.subplots(1, 1)\n",
    "    ax.xaxis.set_visible(False)\n",
    "    ax.yaxis.set_visible(False)\n",
    "\n",
    "    divider = make_axes_locatable(ax)\n",
    "\n",
    "    cax = divider.append_axes(\"right\", size=\"5%\", pad=0.1)\n",
    "\n",
    "    df.plot(column='vkm', ax=ax, legend=True, cax=cax, cmap='inferno', vmax=vmax)\n",
    "\n",
    "    cax.yaxis.set_label_text('Vehicle kilometres (km)')\n",
    "    cax.yaxis.get_label().set_visible(True)\n",
    "\n",
    "    return fig"
   ]
  },
  {
   "cell_type": "code",
   "execution_count": null,
   "metadata": {},
   "outputs": [],
   "source": [
    "fig = plot_vkm(eeh_zones, eeh_vkm, scenarios[0], \"2015\")\n",
    "plt.savefig(\"eehVehicleKilometres2015.png\")\n",
    "plt.savefig(\"eehVehicleKilometres2015.svg\")\n",
    "\n",
    "for s in scenarios:\n",
    "    fig = plot_vkm(eeh_zones, eeh_vkm, s, \"2050\")\n",
    "    plt.savefig(f\"eehVehicleKilometres2050_{s}.png\")\n",
    "    plt.savefig(f\"eehVehicleKilometres2050_{s}.svg\")"
   ]
  },
  {
   "cell_type": "markdown",
   "metadata": {},
   "source": [
    "## Electricity consumption for car trips"
   ]
  },
  {
   "cell_type": "code",
   "execution_count": null,
   "metadata": {},
   "outputs": [],
   "source": [
    "car_elec = read_result('zonalTemporalElectricityCAR.csv', scenarios, timesteps)\n",
    "car_elec = car_elec[car_elec.zone.isin(zone_codes)] \\\n",
    "    .set_index(['scenario', 'year', 'zone'])\n",
    "car_elec['TOTAL'] = car_elec.sum(axis=1)\n",
    "car_elec.to_csv('eehZonalTemporalElectricityCAR.csv')\n",
    "car_elec.head(2)"
   ]
  },
  {
   "cell_type": "code",
   "execution_count": null,
   "metadata": {},
   "outputs": [],
   "source": [
    "car_energy = read_result('energyConsumptionsZonalCar.csv', scenarios, timesteps)\n",
    "car_energy = car_energy[car_energy.zone.isin(zone_codes)] \\\n",
    "    .set_index(['scenario', 'year', 'zone'])\n",
    "car_energy.to_csv('eehEnergyConsumptionsZonalCar.csv')\n",
    "car_energy.head(2)"
   ]
  },
  {
   "cell_type": "markdown",
   "metadata": {},
   "source": [
    "## Congestion/capacity utilisation"
   ]
  },
  {
   "cell_type": "code",
   "execution_count": null,
   "metadata": {},
   "outputs": [],
   "source": [
    "zb = eeh_zones.bounds\n",
    "extent = (zb.minx.min(), zb.maxx.max(), zb.miny.min(), zb.maxy.max())\n",
    "extent"
   ]
  },
  {
   "cell_type": "code",
   "execution_count": null,
   "metadata": {},
   "outputs": [],
   "source": [
    "network_base = read_result('outputNetwork.shp', [scenarios[0]], [\"2015\"])"
   ]
  },
  {
   "cell_type": "code",
   "execution_count": null,
   "metadata": {},
   "outputs": [],
   "source": [
    "eeh_nb = network_base.cx[extent[0]:extent[1], extent[2]:extent[3]].copy()\n",
    "eeh_nbc = geopandas.clip(eeh_nb, eeh_zones)"
   ]
  },
  {
   "cell_type": "code",
   "execution_count": null,
   "metadata": {},
   "outputs": [],
   "source": [
    "eeh_nb.head(1)"
   ]
  },
  {
   "cell_type": "code",
   "execution_count": null,
   "metadata": {},
   "outputs": [],
   "source": [
    "eeh_nb.drop(columns=['SRefE','SRefN','IsFerry', 'iDir', 'Anode', 'Bnode', 'CP', 'year', 'CapUtil', 'scenario']).to_file('eehNetwork.gpkg', driver='GPKG')"
   ]
  },
  {
   "cell_type": "code",
   "execution_count": null,
   "metadata": {},
   "outputs": [],
   "source": [
    "def plot_cap(zones, network, network_clipped):\n",
    "    fig, ax = plt.subplots(1, 1)\n",
    "    ax.xaxis.set_visible(False)\n",
    "    ax.yaxis.set_visible(False)\n",
    "\n",
    "    divider = make_axes_locatable(ax)\n",
    "\n",
    "    cax = divider.append_axes(\"right\", size=\"5%\", pad=0.1)\n",
    "\n",
    "    zones.plot(ax=ax, color='#eeeeee', edgecolor='white')\n",
    "    network.plot(ax=ax, color='#eeeeee')\n",
    "    network_clipped.plot(column='CapUtil', ax=ax, legend=True, cax=cax, cmap='inferno', vmax=200)\n",
    "\n",
    "    cax.yaxis.set_label_text('Capacity Utilisation (%)')\n",
    "    cax.yaxis.get_label().set_visible(True)\n",
    "\n",
    "    return fig"
   ]
  },
  {
   "cell_type": "code",
   "execution_count": null,
   "metadata": {},
   "outputs": [],
   "source": [
    "fig = plot_cap(eeh_zones, eeh_nb, eeh_nbc)\n",
    "plt.savefig('eehCapacity2015.png')\n",
    "plt.savefig('eehCapacity2015.svg')"
   ]
  },
  {
   "cell_type": "code",
   "execution_count": null,
   "metadata": {},
   "outputs": [],
   "source": [
    "for s in scenarios:\n",
    "    network = read_result('outputNetwork.shp', [s], [\"2050\"])\n",
    "    eeh_nb = network.cx[extent[0]:extent[1], extent[2]:extent[3]].copy()\n",
    "    eeh_nbc = geopandas.clip(eeh_nb, eeh_zones)\n",
    "    fig = plot_cap(eeh_zones, eeh_nb, eeh_nbc)\n",
    "    plt.savefig(f'eehCapacity2050_{s}.png')\n",
    "    plt.savefig(f'eehCapacity2050_{s}.svg')"
   ]
  },
  {
   "cell_type": "code",
   "execution_count": null,
   "metadata": {},
   "outputs": [],
   "source": [
    "dfs = []\n",
    "\n",
    "df = read_result('outputNetwork.shp', [scenarios[0]], [\"2015\"])\n",
    "\n",
    "df = geopandas.clip(df, eeh_zones) \\\n",
    "    [['EdgeID', 'Anode', 'Bnode', 'CP', 'RoadNumber', 'iDir', 'SRefE',\n",
    "       'SRefN', 'Distance', 'FFspeed', 'FFtime', 'IsFerry', 'Lanes', 'CapUtil',\n",
    "       'year', 'scenario']]\n",
    "dfs.append(df)\n",
    "\n",
    "for s in scenarios:\n",
    "    df = read_result('outputNetwork.shp', [s], [\"2050\"])\n",
    "    df = geopandas.clip(df, eeh_zones) \\\n",
    "        [['EdgeID', 'Anode', 'Bnode', 'CP', 'RoadNumber', 'iDir', 'SRefE',\n",
    "           'SRefN', 'Distance', 'FFspeed', 'FFtime', 'IsFerry', 'Lanes', 'CapUtil',\n",
    "           'year', 'scenario']]\n",
    "    dfs.append(df)\n",
    "    \n",
    "link_capacity = pandas.concat(dfs) \\\n",
    "    .set_index(['scenario', 'year'])\n",
    "link_capacity.head(2)"
   ]
  },
  {
   "cell_type": "code",
   "execution_count": null,
   "metadata": {},
   "outputs": [],
   "source": [
    "link_to_lad = geopandas.sjoin(eeh_nbc, eeh_zones, how=\"left\", op='intersects') \\\n",
    "    [['EdgeID','lad19cd','lad19nm']] \\\n",
    "    .drop_duplicates(subset=['EdgeID'])\n",
    "link_to_lad"
   ]
  },
  {
   "cell_type": "code",
   "execution_count": null,
   "metadata": {},
   "outputs": [],
   "source": [
    "link_capacity"
   ]
  },
  {
   "cell_type": "code",
   "execution_count": null,
   "metadata": {},
   "outputs": [],
   "source": [
    "link_capacity_with_lad = link_capacity \\\n",
    "    .reset_index() \\\n",
    "    .merge(link_to_lad, on='EdgeID', how='left') \\\n",
    "    .set_index(['scenario', 'year', 'EdgeID']) \n",
    "\n",
    "link_capacity_with_lad"
   ]
  },
  {
   "cell_type": "code",
   "execution_count": null,
   "metadata": {},
   "outputs": [],
   "source": [
    "link_capacity_with_lad.to_csv('eehLinkCapUtil.csv')"
   ]
  },
  {
   "cell_type": "code",
   "execution_count": null,
   "metadata": {},
   "outputs": [],
   "source": [
    "mean_cap = link_capacity_with_lad[['CapUtil', 'lad19cd','lad19nm']] \\\n",
    "    .reset_index() \\\n",
    "    .drop(columns='EdgeID') \\\n",
    "    .groupby(['scenario', 'year', 'lad19cd', 'lad19nm']) \\\n",
    "    .mean()\n",
    "mean_cap.to_csv('eehLADAverageCapUtil.csv')\n",
    "mean_cap"
   ]
  },
  {
   "cell_type": "code",
   "execution_count": null,
   "metadata": {},
   "outputs": [],
   "source": [
    "df = mean_cap.reset_index()\n",
    "print(len(df.scenario.unique()))\n",
    "print(len(df.year.unique()))\n",
    "\n",
    "print(len(df.lad19cd.unique()))\n",
    "print(6 * 37)"
   ]
  },
  {
   "cell_type": "markdown",
   "metadata": {},
   "source": [
    "## Link travel times/speeds"
   ]
  },
  {
   "cell_type": "code",
   "execution_count": null,
   "metadata": {},
   "outputs": [],
   "source": [
    "link_times = read_result('linkTravelTimes.csv', scenarios, timesteps)\n",
    "link_times.head(1)"
   ]
  },
  {
   "cell_type": "code",
   "execution_count": null,
   "metadata": {},
   "outputs": [],
   "source": [
    "eeh_nbc"
   ]
  },
  {
   "cell_type": "code",
   "execution_count": null,
   "metadata": {},
   "outputs": [],
   "source": [
    "eeh_lt = link_times[link_times.edgeID.isin(eeh_nbc.EdgeID)]"
   ]
  },
  {
   "cell_type": "code",
   "execution_count": null,
   "metadata": {},
   "outputs": [],
   "source": [
    "eeh_lt.to_csv('eehLinkTravelTimes.csv', index=False)"
   ]
  },
  {
   "cell_type": "code",
   "execution_count": null,
   "metadata": {},
   "outputs": [],
   "source": [
    "KM_TO_MILES = 0.6213712"
   ]
  },
  {
   "cell_type": "code",
   "execution_count": null,
   "metadata": {},
   "outputs": [],
   "source": [
    "hours = [\n",
    "    'MIDNIGHT', 'ONEAM', 'TWOAM', 'THREEAM', 'FOURAM', 'FIVEAM', \n",
    "    'SIXAM', 'SEVENAM', 'EIGHTAM', 'NINEAM', 'TENAM', 'ELEVENAM', \n",
    "    'NOON', 'ONEPM', 'TWOPM', 'THREEPM', 'FOURPM', 'FIVEPM', \n",
    "    'SIXPM', 'SEVENPM', 'EIGHTPM', 'NINEPM', 'TENPM', 'ELEVENPM'\n",
    "]"
   ]
  },
  {
   "cell_type": "code",
   "execution_count": null,
   "metadata": {},
   "outputs": [],
   "source": [
    "def merge_times_to_network(network_clipped, link_times, hours):\n",
    "    # nbc is clipped network\n",
    "    # lt is link times\n",
    "    # hours is list of hour names\n",
    "    \n",
    "    # merge link times (by hour of day) onto network\n",
    "    df = network_clipped \\\n",
    "        .drop(columns=['scenario', 'year']) \\\n",
    "        .rename(columns={'EdgeID': 'edgeID'}) \\\n",
    "        .merge(\n",
    "            link_times,\n",
    "            on=\"edgeID\"\n",
    "        ) \\\n",
    "        [[\n",
    "            'edgeID', 'RoadNumber', 'iDir', 'Lanes', 'Distance', 'FFspeed',  \n",
    "            'MIDNIGHT', 'ONEAM', 'TWOAM', 'THREEAM', 'FOURAM', 'FIVEAM', \n",
    "            'SIXAM', 'SEVENAM', 'EIGHTAM', 'NINEAM', 'TENAM', 'ELEVENAM', \n",
    "            'NOON', 'ONEPM', 'TWOPM', 'THREEPM', 'FOURPM', 'FIVEPM', \n",
    "            'SIXPM', 'SEVENPM', 'EIGHTPM', 'NINEPM', 'TENPM', 'ELEVENPM',\n",
    "            'geometry'\n",
    "        ]]\n",
    "    # calculate flow speeds from distance / time * 60 [to get back to km/h] * 0.6213712 [to miles/h]\n",
    "    for hour in hours:\n",
    "        df[hour] = (df.Distance / df[hour]) * 60 * KM_TO_MILES\n",
    "    df.FFspeed *= KM_TO_MILES\n",
    "    return df"
   ]
  },
  {
   "cell_type": "code",
   "execution_count": null,
   "metadata": {},
   "outputs": [],
   "source": [
    "eeh_ltb = merge_times_to_network(\n",
    "    eeh_nbc, \n",
    "    eeh_lt[(eeh_lt.scenario == '01-BaU') & (eeh_lt.year == \"2015\")], \n",
    "    hours)\n",
    "eeh_ltb"
   ]
  },
  {
   "cell_type": "code",
   "execution_count": null,
   "metadata": {},
   "outputs": [],
   "source": [
    "eeh_ltb.columns"
   ]
  },
  {
   "cell_type": "code",
   "execution_count": null,
   "metadata": {},
   "outputs": [],
   "source": [
    "def plot_speed(zones, network, network_clipped, col, label=None):\n",
    "    fig, ax = plt.subplots(1, 1)\n",
    "    ax.xaxis.set_visible(False)\n",
    "    ax.yaxis.set_visible(False)\n",
    "\n",
    "    divider = make_axes_locatable(ax)\n",
    "\n",
    "    cax = divider.append_axes(\"right\", size=\"5%\", pad=0.1)\n",
    "\n",
    "    zones.plot(ax=ax, color='#eeeeee', edgecolor='white')\n",
    "    network.plot(ax=ax, color='#eeeeee')\n",
    "    network_clipped.plot(column=col, ax=ax, legend=True, cax=cax, cmap='inferno', vmax=75, vmin=0)\n",
    "    \n",
    "    if label is not None:\n",
    "        # place a text box in upper left in axes coords\n",
    "        props = props = dict(boxstyle='round', facecolor='white', alpha=0.5)\n",
    "        ax.text(0.05, 0.95, label, transform=ax.transAxes, fontsize=14,\n",
    "            verticalalignment='top', bbox=props)\n",
    "\n",
    "    cax.yaxis.set_label_text('Speed (km/h)')\n",
    "    cax.yaxis.get_label().set_visible(True)\n",
    "\n",
    "    return fig"
   ]
  },
  {
   "cell_type": "code",
   "execution_count": null,
   "metadata": {},
   "outputs": [],
   "source": [
    "fig = plot_speed(eeh_zones, eeh_nb, eeh_ltb, 'EIGHTAM', \"Morning peak\")\n",
    "fname = f\"speed2015_peakam.png\"\n",
    "plt.savefig(fname)\n",
    "plt.close(fig)"
   ]
  },
  {
   "cell_type": "code",
   "execution_count": null,
   "metadata": {},
   "outputs": [],
   "source": [
    "fig = plot_speed(eeh_zones, eeh_nb, eeh_ltb, 'FFspeed', \"Free flow\")\n",
    "fname = f\"speed2015_free.png\"\n",
    "plt.savefig(fname)\n",
    "plt.close(fig)"
   ]
  },
  {
   "cell_type": "code",
   "execution_count": null,
   "metadata": {},
   "outputs": [],
   "source": [
    "for i, hour in enumerate(hours):\n",
    "    fig = plot_speed(eeh_zones, eeh_nb, eeh_ltb, hour, f\"{str(i).zfill(2)}:00\")\n",
    "    fname = f\"speed2015_{str(i).zfill(3)}.png\"\n",
    "    print(fname, end=\" \")\n",
    "    plt.savefig(fname)\n",
    "    plt.close(fig)"
   ]
  },
  {
   "cell_type": "markdown",
   "metadata": {},
   "source": [
    "### Convert to GIF\n",
    "\n",
    "Using imagemagick, needs installing, next line runs in the shell"
   ]
  },
  {
   "cell_type": "code",
   "execution_count": null,
   "metadata": {},
   "outputs": [],
   "source": [
    "! convert -delay 20 -loop 0 speed2015_0*.png speed2015.gif"
   ]
  },
  {
   "cell_type": "markdown",
   "metadata": {},
   "source": [
    "### Each scenario peak speeds in 2050"
   ]
  },
  {
   "cell_type": "code",
   "execution_count": null,
   "metadata": {},
   "outputs": [],
   "source": [
    "for scenario in scenarios:\n",
    "    ltb = merge_times_to_network(\n",
    "        eeh_nbc, \n",
    "        eeh_lt[(eeh_lt.scenario == scenario) & (eeh_lt.year == \"2050\")], \n",
    "        hours)\n",
    "    \n",
    "    fig = plot_speed(eeh_zones, eeh_nb, ltb, 'EIGHTAM', \"Morning peak\")\n",
    "    fname = f\"speed2050_{scenario}_peakam.png\"\n",
    "    print(fname, end=\" \")\n",
    "    plt.savefig(fname)\n",
    "    plt.close(fig)"
   ]
  },
  {
   "cell_type": "markdown",
   "metadata": {},
   "source": [
    "## Rank links per-scenario for peak speed in 2050"
   ]
  },
  {
   "cell_type": "code",
   "execution_count": null,
   "metadata": {},
   "outputs": [],
   "source": [
    "eeh_flow = eeh_lt[eeh_lt.year == \"2050\"] \\\n",
    "    [[\"scenario\", \"edgeID\", \"EIGHTAM\", \"freeFlow\"]] \\\n",
    "    .rename(columns={'EIGHTAM': 'peakFlow'})\n",
    "\n",
    "eeh_flow['flowRatio'] = eeh_flow.freeFlow / eeh_flow.peakFlow\n",
    "\n",
    "eeh_flow.drop(columns=['peakFlow', 'freeFlow'], inplace=True)\n",
    "\n",
    "eeh_flow = eeh_flow.pivot_table(columns='scenario', index='edgeID', values='flowRatio')\n",
    "eeh_flow.columns.name = None\n",
    "eeh_flow['bestScenarioAtPeak'] = eeh_flow.idxmax(axis=1)\n",
    "eeh_flow.head(2)"
   ]
  },
  {
   "cell_type": "code",
   "execution_count": null,
   "metadata": {},
   "outputs": [],
   "source": [
    "eeh_flow.groupby('bestScenarioAtPeak').count()[[\"01-BaU\"]]"
   ]
  },
  {
   "cell_type": "code",
   "execution_count": null,
   "metadata": {},
   "outputs": [],
   "source": [
    "eeh_flowg = eeh_nbc \\\n",
    "    [[\"EdgeID\", \"RoadNumber\", \"iDir\", \"Distance\", \"Lanes\", \"geometry\"]] \\\n",
    "    .rename(columns={'EdgeID': 'edgeID'}) \\\n",
    "    .merge(\n",
    "        eeh_flow,\n",
    "        on=\"edgeID\"\n",
    "    )\n",
    "lu = {\n",
    "#     '01-BaU': '1:Business as Usual',\n",
    "#     '02-HighlyConnected': '2:Highly Connected',\n",
    "#     '03-AdaptedFleet': '3:Adapted Fleet',\n",
    "#     '04-BehavShiftPolicy': '4:Behaviour Shift (policy-led)',\n",
    "#     '05-BehavShiftResults': '5:Behaviour Shift (results-led)',\n",
    "    '01-BaU': '01 BaU',\n",
    "    '02-HighlyConnected': '02 HC',\n",
    "    '03-AdaptedFleet': '03 AF',\n",
    "    '04-BehavShiftPolicy': '04 BSp',\n",
    "    '05-BehavShiftResults': '05 BSr',\n",
    "}\n",
    "eeh_flowg.bestScenarioAtPeak = eeh_flowg.bestScenarioAtPeak \\\n",
    "    .apply(lambda s: lu[s])\n",
    "eeh_flowg.head(1)"
   ]
  },
  {
   "cell_type": "code",
   "execution_count": null,
   "metadata": {},
   "outputs": [],
   "source": [
    "eehcm = matplotlib.colors.ListedColormap(\n",
    "    [(74/255, 120/255, 199/255),\n",
    "    (238/255, 131/255, 54/255),\n",
    "    (170/255, 170/255, 170/255),\n",
    "    (255/255, 196/255, 0/255),\n",
    "    (84/255, 130/255, 53/255)],\n",
    "    name='eeh')"
   ]
  },
  {
   "cell_type": "code",
   "execution_count": null,
   "metadata": {},
   "outputs": [],
   "source": [
    "fig, ax = plt.subplots(1, 1)\n",
    "ax.xaxis.set_visible(False)\n",
    "ax.yaxis.set_visible(False)\n",
    "\n",
    "eeh_zones.plot(ax=ax, color='#f2f2f2', edgecolor='white')\n",
    "eeh_nb.plot(ax=ax, color='#eeeeee')\n",
    "eeh_flowg.plot(column='bestScenarioAtPeak', ax=ax, legend=True, cmap=eehcm)\n",
    "plt.savefig(\"bestScenarioPeakFlowRatio.png\")\n",
    "plt.savefig(\"bestScenarioPeakFlowRatio.svg\")"
   ]
  },
  {
   "cell_type": "markdown",
   "metadata": {},
   "source": [
    "## Link travel times direct"
   ]
  },
  {
   "cell_type": "code",
   "execution_count": null,
   "metadata": {},
   "outputs": [],
   "source": []
  }
 ],
 "metadata": {
  "kernelspec": {
   "display_name": "Python 3",
   "language": "python",
   "name": "python3"
  },
  "language_info": {
   "codemirror_mode": {
    "name": "ipython",
    "version": 3
   },
   "file_extension": ".py",
   "mimetype": "text/x-python",
   "name": "python",
   "nbconvert_exporter": "python",
   "pygments_lexer": "ipython3",
   "version": "3.7.6"
  }
 },
 "nbformat": 4,
 "nbformat_minor": 4
}
